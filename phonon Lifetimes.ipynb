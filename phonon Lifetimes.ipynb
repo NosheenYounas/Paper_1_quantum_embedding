{
 "cells": [
  {
   "cell_type": "code",
   "execution_count": 2,
   "id": "e9dd4c17-979e-4edf-bc6d-83cf5268dbd3",
   "metadata": {},
   "outputs": [],
   "source": [
    "from readfiles import *\n",
    "import sys\n",
    "import numpy.linalg as LA\n",
    "import copy\n",
    "from unit import *\n",
    "from qutip import *\n",
    "import matplotlib.pyplot as plt\n",
    "import numpy as np\n",
    "from scipy.optimize import curve_fit"
   ]
  },
  {
   "cell_type": "markdown",
   "id": "d1a8489c-f0bd-4164-bf54-49389d91b1c3",
   "metadata": {},
   "source": [
    "# Writing main Hamiltonian"
   ]
  },
  {
   "cell_type": "code",
   "execution_count": 3,
   "id": "36c518bb-df02-4bb9-a4bf-42706a50da47",
   "metadata": {},
   "outputs": [],
   "source": [
    "# Now defining Units and conversion factors. \n",
    "h = 6.62607015e-34 # planck's constant in joules second\n",
    "c = 2.99792458e10 # speed of light in cm per second\n",
    "e = 1.60217663e-19 # charge of electron in coulombs\n",
    "hbar = 0.658211951 # in eV-fs or meV-ps or ueV-ns\n",
    "cm2ev = c*h/e  # conversion factor from 1/cm to eV\n",
    "cm2mev = cm2ev * 1.e3  # conversion from 1/cm to meV\n",
    "ev2au = e/4.3597447222071e-18  # converison from eV to atomic mass units\n",
    "cm2au = cm2ev * ev2au  # conversion from 1/cm to atomic mass units\n",
    "\n",
    "kB = 8.617333262e-2 # meV/K, Boltzmann constant"
   ]
  },
  {
   "cell_type": "code",
   "execution_count": 4,
   "id": "4a3b2246-3b26-4ac8-bf7f-cd1dd28b6ecf",
   "metadata": {},
   "outputs": [
    {
     "name": "stdout",
     "output_type": "stream",
     "text": [
      "alpha in units of meV per tesla = 0.057884270182028845\n",
      "hbar is contained in the definition of alpha\n"
     ]
    }
   ],
   "source": [
    "free_e_gyro = 28024.9514242E6 # Hz/T gyromagnetic ratio of an electron.\n",
    "hz2meV = 4.1357E-12 # 1Hz = 4.1357E-15 eV = 4.1357E-12 meV\n",
    "free_e_gfactor = 2.00231930437378 # free electron g factor 2.00231930437378\n",
    "alpha = (free_e_gyro*hz2meV)/free_e_gfactor # gyromagnetic ratio/gfactor in meV per tesla\n",
    "print(\"alpha in units of meV per tesla = \"+str(alpha))\n",
    "print(\"hbar is contained in the definition of alpha\")"
   ]
  },
  {
   "cell_type": "code",
   "execution_count": 5,
   "id": "7a68692c-e79b-429a-93a1-eba1240e2b3a",
   "metadata": {},
   "outputs": [
    {
     "data": {
      "text/plain": [
       "(Quantum object: dims = [[2], [2]], shape = (2, 2), type = oper, isherm = True\n",
       " Qobj data =\n",
       " [[0.  0.5]\n",
       "  [0.5 0. ]],\n",
       " Quantum object: dims = [[2], [2]], shape = (2, 2), type = oper, isherm = True\n",
       " Qobj data =\n",
       " [[0.+0.j  0.-0.5j]\n",
       "  [0.+0.5j 0.+0.j ]],\n",
       " Quantum object: dims = [[2], [2]], shape = (2, 2), type = oper, isherm = True\n",
       " Qobj data =\n",
       " [[ 0.5  0. ]\n",
       "  [ 0.  -0.5]])"
      ]
     },
     "execution_count": 5,
     "metadata": {},
     "output_type": "execute_result"
    }
   ],
   "source": [
    "eS = jmat(1/2)\n",
    "eS"
   ]
  },
  {
   "cell_type": "code",
   "execution_count": 6,
   "id": "743e9cc9-654b-4ab2-97fb-9d64d3efd328",
   "metadata": {},
   "outputs": [
    {
     "data": {
      "text/plain": [
       "[Quantum object: dims = [[2], [2]], shape = (2, 2), type = oper, isherm = True\n",
       " Qobj data =\n",
       " [[0. 1.]\n",
       "  [1. 0.]],\n",
       " Quantum object: dims = [[2], [2]], shape = (2, 2), type = oper, isherm = True\n",
       " Qobj data =\n",
       " [[0.+0.j 0.-1.j]\n",
       "  [0.+1.j 0.+0.j]],\n",
       " Quantum object: dims = [[2], [2]], shape = (2, 2), type = oper, isherm = True\n",
       " Qobj data =\n",
       " [[ 1.  0.]\n",
       "  [ 0. -1.]]]"
      ]
     },
     "execution_count": 6,
     "metadata": {},
     "output_type": "execute_result"
    }
   ],
   "source": [
    "sigma_vec = [sigmax(), sigmay(), sigmaz()]\n",
    "sigma_vec"
   ]
  },
  {
   "cell_type": "code",
   "execution_count": 7,
   "id": "c7ff72bb-9b67-4f54-b0f5-0b9f3dfa849e",
   "metadata": {},
   "outputs": [
    {
     "name": "stdout",
     "output_type": "stream",
     "text": [
      "applied magnetic field is  200  Tesla\n",
      "Spin zeeman hamiltonian\n"
     ]
    },
    {
     "data": {
      "text/latex": [
       "Quantum object: dims = [[2], [2]], shape = (2, 2), type = oper, isherm = True $ \\\\ \\left(\\begin{matrix}11.520 & (0.013+0.005j)\\\\(0.013-0.005j) & -11.520\\\\\\end{matrix}\\right)$"
      ],
      "text/plain": [
       "Quantum object: dims = [[2], [2]], shape = (2, 2), type = oper, isherm = True\n",
       "Qobj data =\n",
       "[[ 11.52007767+0.j           0.01276522+0.00512334j]\n",
       " [  0.01276522-0.00512334j -11.52007767+0.j        ]]"
      ]
     },
     "execution_count": 7,
     "metadata": {},
     "output_type": "execute_result"
    }
   ],
   "source": [
    "\n",
    "# NOTE: using the pauli vector instead of spin half operators. Defining a single spin half operators\n",
    "#eS = jmat(1/2) # list of electronic spin operators [Sx, Sy, Sz] \n",
    "# NOTE: In qutip, the eigensolver transforms the Matrix with eigen values in ascending order.\n",
    "\n",
    "# Loading the gtensor for the basic Hamiltonian.\n",
    "fname = 'data files/gtensor.dat' # loading the gtensor, hyperfine tensor, and ztensor. \n",
    "gtensor, hfc, zfs = read_g(fname)\n",
    "\n",
    "# Defining External magnetic field vector\n",
    "Bfield = 200 # Tesla\n",
    "print(\"applied magnetic field is \", Bfield, \" Tesla\")\n",
    "\n",
    "Bvector = np.zeros(3)\n",
    "Bvector[0] = 0\n",
    "Bvector[1] = 0\n",
    "Bvector[2] = Bfield\n",
    "\n",
    "\n",
    "# Defining spin Hamiltonian\n",
    "H = None\n",
    "\n",
    "# 1) Zeeman interaction\n",
    "for i in range(3):\n",
    "    for j in range(3):\n",
    "        if H is None:\n",
    "            H = alpha * gtensor[i][j] *(1/2)* sigma_vec[i] * Bvector[j] # notice this 1/2 here. its because i am using pauli matrices \n",
    "        else:\n",
    "            H += alpha * gtensor[i][j] *(1/2)* sigma_vec[i] * Bvector[j]# instead of spin 1/2 matrices \n",
    "\n",
    "print('Spin zeeman hamiltonian')\n",
    "#H.tidyup()\n",
    "H"
   ]
  },
  {
   "cell_type": "code",
   "execution_count": 8,
   "id": "e00a2a9b-fbe1-4be1-adf7-42b0c06e86bf",
   "metadata": {},
   "outputs": [
    {
     "data": {
      "text/plain": [
       "(array([-11.52008588,  11.52008588]),\n",
       " array([Quantum object: dims = [[2], [1]], shape = (2, 1), type = ket\n",
       "        Qobj data =\n",
       "        [[-9.99999822e-01+0.j        ]\n",
       "         [-5.54041893e-04+0.00022237j]]                              ,\n",
       "        Quantum object: dims = [[2], [1]], shape = (2, 1), type = ket\n",
       "        Qobj data =\n",
       "        [[-5.96999835e-04+0.j        ]\n",
       "         [ 9.28043463e-01-0.37247144j]]                              ],\n",
       "       dtype=object))"
      ]
     },
     "execution_count": 8,
     "metadata": {},
     "output_type": "execute_result"
    }
   ],
   "source": [
    "energies, estates  = (-H).eigenstates() # the eigenstates are in acending order, the -ve reintroduces the decending order\n",
    "energies, estates"
   ]
  },
  {
   "cell_type": "code",
   "execution_count": 9,
   "id": "ae716f43-a5fe-4dd6-bc9c-407f914c4183",
   "metadata": {},
   "outputs": [
    {
     "data": {
      "text/latex": [
       "Quantum object: dims = [[2], [2]], shape = (2, 2), type = oper, isherm = True $ \\\\ \\left(\\begin{matrix}11.520 & 0.0\\\\0.0 & -11.520\\\\\\end{matrix}\\right)$"
      ],
      "text/plain": [
       "Quantum object: dims = [[2], [2]], shape = (2, 2), type = oper, isherm = True\n",
       "Qobj data =\n",
       "[[ 11.52008588   0.        ]\n",
       " [  0.         -11.52008588]]"
      ]
     },
     "execution_count": 9,
     "metadata": {},
     "output_type": "execute_result"
    }
   ],
   "source": [
    "H = H.transform(estates)\n",
    "H"
   ]
  },
  {
   "cell_type": "markdown",
   "id": "a57e20e1-6111-4ec6-8029-f0f63fbc0756",
   "metadata": {},
   "source": [
    "# Loading frequencies and gtensor derivative i.e. dgx"
   ]
  },
  {
   "cell_type": "code",
   "execution_count": 10,
   "id": "cfcb038e-af5c-49e0-8eeb-eb8e5d1eab62",
   "metadata": {},
   "outputs": [
    {
     "name": "stdout",
     "output_type": "stream",
     "text": [
      "number of vibs= 190\n",
      "the intra vibrations of a single molecule are the harmonic frequencies here in meV\n"
     ]
    },
    {
     "data": {
      "text/plain": [
       "array([[-2.4308993e-03, -3.6944117e-03,  1.8978486e-03],\n",
       "       [-2.8236532e-03,  1.5009815e-03,  8.7550132e-05],\n",
       "       [ 1.0964913e-03,  5.0411135e-04,  3.4037204e-04]])"
      ]
     },
     "execution_count": 10,
     "metadata": {},
     "output_type": "execute_result"
    }
   ],
   "source": [
    "# Loading the couplings and frequencies\n",
    "freq, dgx = get_phonon('data files/spin_phonon.dat')\n",
    "freq = freq*cm2mev\n",
    "print(\"the intra vibrations of a single molecule are the harmonic frequencies here in meV\")\n",
    "dgx[0]"
   ]
  },
  {
   "cell_type": "markdown",
   "id": "53435dad-6752-46cd-a6c6-bd4620b112b8",
   "metadata": {},
   "source": [
    "### Converting derivatives of gtensor into couplings $\\tilde c$ with Pauli matrices\n",
    "\n",
    "$$\n",
    "gcoupS= \\tilde c_{\\alpha k} = \\alpha \\frac{\\partial g_{\\alpha z}}{\\partial q_k} B_z (1/2)\n",
    "$$\n",
    "\n",
    "Note: this last 1/2 is comming from converting spin half opertors (S) to pauli matrices"
   ]
  },
  {
   "cell_type": "code",
   "execution_count": 11,
   "id": "4bfe2243-0c0d-4fb9-a6db-5ac623b67998",
   "metadata": {},
   "outputs": [
    {
     "name": "stdout",
     "output_type": "stream",
     "text": [
      "First 5 new couplings \n",
      " [[ 0.01098556  0.00050678  0.00197022]\n",
      " [-0.00582464  0.0016868  -0.00963291]\n",
      " [ 0.00125344 -0.0059917  -0.00460528]\n",
      " [-0.00085962 -0.00481263 -0.00841203]\n",
      " [-0.00435588  0.00196967 -0.00646957]]\n",
      "these couplings are for the Pauli X, Y, Z operators.\n"
     ]
    }
   ],
   "source": [
    "Np = len(freq)\n",
    "gcoupS = np.zeros((Np, 3),dtype=float) # defining a place holder for couplings\n",
    "for k in range(Np):\n",
    "    for j in range(3):\n",
    "        gcoupS[k,:] += alpha * dgx[k,:,j] * Bvector[j] * (1/2) # only thing missing from here is Pauli matrix. Everything else is contained.\n",
    "        #therefore, couplings will have units of energy as meV\n",
    "\n",
    "# NOTE: this coupling also has the harmonic bath displacement operator contained in it. therefore, it has units of meV.\n",
    "print('First 5 new couplings \\n', gcoupS[:5])\n",
    "print('these couplings are for the Pauli X, Y, Z operators.')"
   ]
  },
  {
   "cell_type": "markdown",
   "id": "3633ce5e-cd82-4f4e-8b5f-d9bb6c60cb08",
   "metadata": {},
   "source": [
    "### Defining spectral densities"
   ]
  },
  {
   "cell_type": "code",
   "execution_count": 12,
   "id": "4425bcae-a540-447c-a530-f658b1a220cf",
   "metadata": {},
   "outputs": [],
   "source": [
    "def shape_normal(w, w0, sigma):\n",
    "    '''\n",
    "    this function returns a Gaussian/Normal distribution centered at w0 with std sigma\n",
    "    '''\n",
    "    return np.exp(-0.5*((w-w0)/sigma)**2)/(sigma*np.sqrt(2*np.pi))\n",
    "\n",
    "\n",
    "def lorentzian(w, w0, sigma):\n",
    "    '''\n",
    "    this function returns a lorentzian profile centered at 'w0' with thickness 'sigma'\n",
    "    NOTE: sigma is related to the lifetime of the mode by tau = hbar/sigma\n",
    "    '''\n",
    "    return  sigma/(np.pi*(sigma**2 + (w-w0)**2))"
   ]
  },
  {
   "cell_type": "code",
   "execution_count": null,
   "id": "d1706042-658a-435e-9865-d526566dcd04",
   "metadata": {},
   "outputs": [],
   "source": []
  },
  {
   "cell_type": "code",
   "execution_count": null,
   "id": "7431281d-ac23-4830-97bd-0348a7ab31e7",
   "metadata": {},
   "outputs": [],
   "source": []
  },
  {
   "cell_type": "code",
   "execution_count": null,
   "id": "1329ed83-076b-445d-a274-afd6a7397906",
   "metadata": {},
   "outputs": [],
   "source": []
  },
  {
   "cell_type": "code",
   "execution_count": 47,
   "id": "a8334e6d-29e2-4022-84fa-e8a6f5d3eb0d",
   "metadata": {},
   "outputs": [],
   "source": [
    "def spectral_density_quantum(w, freqs, coup, T=5, sigma=2, shape='L'):\n",
    "    '''\n",
    "    for full formula see the cell below\n",
    "    n = n_thermal = pop of harmonic oscillator mode with frequency ‘w’, at the temperature described by ‘w_th’ where 𝜔_th = 𝑘𝐵 𝑇/ℏ\n",
    "    NOTE: freqs and couplings must be passed in energy units i.e. meV. \n",
    "    units of S(w) are [(meV)^2 s]\n",
    "\n",
    "    Note: It requires cij tilde converts it into cij by division with sqrt(hbar/2wj) and then computes the spectral density\n",
    "    '''\n",
    "    kB = 8.6173e-2 # meV/K, Boltzmann constant\n",
    "    w_th = kB*T/hbar # temperature defined as frequency\n",
    "    S = 0\n",
    "    for j in range(len(freqs)):\n",
    "        wj = freqs[j]/hbar\n",
    "        cj = coup[j]/np.sqrt(hbar/(2*wj)) # energy / length\n",
    "        nj = n_thermal(wj,w_th)\n",
    "        #sigma = 0.1*wj\n",
    "        if shape=='G':\n",
    "            S += np.pi*hbar*(cj**2/wj)*( (nj+1)*shape_normal(w, wj, sigma) + nj*shape_normal(w, -wj, sigma) )\n",
    "        else:\n",
    "            S += np.pi*hbar*(cj**2/wj)*( (nj+1)*lorentzian(w, wj, sigma) + nj*lorentzian(w, -wj, sigma) )\n",
    "    return S\n",
    "\n",
    "def spectral_density_classical(w, freqs, coup, T=5, sigma=2, shape='L'):\n",
    "    '''\n",
    "    for full formula see the cell below\n",
    "    Units of S(w) are energy (meV) if freqs and couplings are in frequency units.\n",
    "    '''\n",
    "    kB = 8.6173e-2 # meV/K, Boltzmann constant\n",
    "    S = 0\n",
    "    for j in range(len(freqs)):\n",
    "        wj = freqs[j]/hbar\n",
    "        cj = coup[j]/np.sqrt(hbar/(2*wj)) # energy/length\n",
    "        if shape=='G':\n",
    "            S += np.pi*kB*T*(cj**2/wj**2)*(shape_normal(w, wj, sigma) + shape_normal(w, -wj, sigma))\n",
    "        else:\n",
    "            S += np.pi*kB*T*(cj**2/wj**2)*(lorentzian(w, wj, sigma) + lorentzian(w, -wj, sigma))\n",
    "    return S"
   ]
  },
  {
   "cell_type": "code",
   "execution_count": null,
   "id": "4d597f1e-7a4b-4672-b471-49e4df582e80",
   "metadata": {},
   "outputs": [],
   "source": []
  },
  {
   "cell_type": "markdown",
   "id": "c5a2c259-fe48-4174-9b0f-566be5fe9b69",
   "metadata": {},
   "source": [
    "NOTE: The quantum spectral density follows the equation \n",
    "Starting from the time domain description: \n",
    "$$\n",
    "S(t) = \\sum_j \\frac{\\hbar c_j^2}{2\\omega_j} [(n_j +1)e^{-i\\omega_j t} + n_j e^{i\\omega_j t}]\n",
    "$$\n",
    "we transform to the fourier domain using definition\n",
    "$$\n",
    "2\\pi \\delta(\\omega\\pm \\omega_j) = \\int_{-\\infty}^{-\\infty} e^{ i (\\omega \\pm \\omega_j) t} dt\n",
    "$$\n",
    "$$\n",
    "S(\\omega) = \\pi \\hbar \\sum_j \\frac{c_j^2}{\\omega_j} [(n_j+1) \\delta(\\omega - \\omega_j)+n_j\\delta(\\omega+\\omega_j)  ]\n",
    "$$\n",
    "where $n(\\omega_j)$ and the delta shapes will be replaced by the Gaussian\n",
    "$$\n",
    "S(\\omega) = \\pi \\hbar \\sum_j \\frac{c_j^2}{\\omega_j} [(n_j+1) G(\\omega_j, \\sigma)+n_jG(-\\omega_j, \\sigma)  ]\n",
    "$$\n",
    "\n",
    "in the high temperature limit $n_j = \\frac{k_B T}{\\hbar \\omega_j} >> 1$. This leads to \n",
    "$$\n",
    "S(\\omega) = \\pi k_B T \\sum_j \\frac{c_j^2}{\\omega_j^2} [G(\\omega_j, \\sigma) + G(-\\omega_j, \\sigma)  ]\n",
    "$$\n",
    "\n",
    "which is the same as classical spectral density. NOTE: time domain classical funciton is \n",
    "$$\n",
    "S(t) = k_B T \\sum_j \\frac{c_j^2}{\\omega_j^2} cos(\\omega_j t)\n",
    "$$\n",
    "\n",
    "\n",
    "\n",
    "### Implementation detail. \n",
    "From the dimensional analysis fo the generic interaciton Hamiltonian\n",
    "$$\n",
    "H_{int} = \\sum_{ij} c_{ij} (\\sigma_i \\otimes \\hat{X}_j)\n",
    "$$\n",
    "$c$'s must be in $energy/[X]$ untis. Using definition $X_j = \\sqrt{\\frac{\\hbar}{2\\omega_j}}(a^\\dagger_j + a_j)$\n",
    "\n",
    "our couplings will have to be re formed as $c_{new} = c \\times (\\frac{\\hbar}{2\\omega_j})^{-1/2}$\n",
    "\n",
    "new units of couplings are $[c_{new}] = \\frac{\\sqrt{eng}}{s}$. \n",
    "\n",
    "Consequently, $[S(\\omega)] = eng^2 s$ and $ [S(\\omega)/\\hbar^2] = 1/s$"
   ]
  },
  {
   "cell_type": "code",
   "execution_count": 14,
   "id": "8892eafc-32ea-425e-9468-41018966f84b",
   "metadata": {},
   "outputs": [
    {
     "data": {
      "text/plain": [
       "0.6095965891861104"
      ]
     },
     "execution_count": 14,
     "metadata": {},
     "output_type": "execute_result"
    }
   ],
   "source": [
    "Temp = 300\n",
    "kB = 8.617333262e-2 # meV/K, Boltzmann constant\n",
    "w_th = kB*Temp/hbar # temperature defined as frequency\n",
    "nth = n_thermal(energies[1]/hbar,w_th)\n",
    "thermal_rho_11 = thermal_dm(2, nth, method='operator').full()[0].real[0]\n",
    "thermal_rho_11"
   ]
  },
  {
   "cell_type": "code",
   "execution_count": 15,
   "id": "6c11d89b-7674-4c82-9425-1c0228a70dde",
   "metadata": {},
   "outputs": [],
   "source": [
    "# curve fitting to extract T1.\n",
    "def t1_func_thermal(x,t1):\n",
    "    kB = 8.6173e-2 # meV/K, Boltzmann constant\n",
    "    w_th = kB*Temp/hbar # temperature defined as frequency\n",
    "    nth = n_thermal(energies[1]/hbar,w_th)\n",
    "    thermal_rho_11 = thermal_dm(2, nth, method='operator').full()[0].real[0]\n",
    "    return (1-thermal_rho_11)*np.exp(-x/t1)+thermal_rho_11\n",
    "\n",
    "def t1_func(x,t1, xinf):\n",
    "    return (1-xinf)*np.exp(-x/t1)+xinf\n",
    "    \n",
    "def t1_func_classical(x,t1):\n",
    "    return (1/2)*np.exp(-x/t1) + (1/2)"
   ]
  },
  {
   "cell_type": "code",
   "execution_count": 16,
   "id": "191f55a3-fa82-4143-8f5f-e01739694363",
   "metadata": {},
   "outputs": [],
   "source": [
    "def t2_func(x,t2):\n",
    "    return np.exp(-x/t2)"
   ]
  },
  {
   "cell_type": "markdown",
   "id": "f248bc59-9416-4e20-98b9-bb1884b76d66",
   "metadata": {},
   "source": [
    "# SVD Mode projection"
   ]
  },
  {
   "cell_type": "code",
   "execution_count": 17,
   "id": "19af4d8d-ba8f-417a-a7f1-73162d83c91c",
   "metadata": {},
   "outputs": [
    {
     "name": "stdout",
     "output_type": "stream",
     "text": [
      "\n",
      " singular values are  [0.0062195  0.00386287 0.00218791]\n",
      "\n",
      " indices of non-zero singular values= [0 1 2]\n",
      "\n",
      " number of non-zeor singular values= 3\n",
      "shape of Usys (190, 3)\n",
      "shape of projection operator is  (190, 190)\n",
      "\n",
      " number of sys  phonon mode = 3\n",
      "\n",
      " number of bath phonon mode = 187\n",
      "With SVD mode projection, system modes cm-1 =  [170.05228774 352.20783648 533.98046135]\n",
      "With SVD mode projection, system modes meV =  [21.08379664 43.6682064  66.20513965]\n"
     ]
    }
   ],
   "source": [
    "# performing SVD, \n",
    "gcoupTest = np.zeros((Np, 3),dtype=float) # defining a place holder for couplings\n",
    "for k in range(Np):\n",
    "    for j in range(3):\n",
    "        gcoupTest[k,:] += alpha * dgx[k,:,j] * Bvector[j] * (1/2) * np.sqrt(hbar/(2*freq[k]/hbar))# only thing missing from here is Pauli matrix. Everything else is contained.\n",
    "        #therefore, couplings will have units of energy as meV\n",
    "\n",
    "U, L, Vdag = LA.svd(gcoupTest, full_matrices=False)  # note: the output of this funciton is U*S*Vh\n",
    "print('\\n singular values are ', L)\n",
    "\n",
    "# Collecting columns of U that correspond to non-zero singular values\n",
    "threshold = 1.e-12\n",
    "Lnonzero = np.where(L > threshold)[0] # indices where the singular value is non-zero\n",
    "Np_new = len(Lnonzero)  # total nonzero singular values\n",
    "\n",
    "print('\\n indices of non-zero singular values=', Lnonzero)\n",
    "print('\\n number of non-zeor singular values=', Np_new)\n",
    "\n",
    "Usys = U[:,Lnonzero]\n",
    "print('shape of Usys', np.shape(Usys))\n",
    "\n",
    "# defining projection operators with the SVD Usys\n",
    "A = Qobj(Usys)\n",
    "#A = Qobj(gcoupS) # regular mode projection\n",
    "P = A*(A.dag()*A).inv()*A.dag()\n",
    "I = qeye(Np)\n",
    "Q = I-P\n",
    "\n",
    "print('shape of projection operator is ', np.shape(P))\n",
    "\n",
    "Omega = Qobj(np.diag(freq**2)) # Hessian\n",
    "Omega_s = P*Omega*P\n",
    "Omega_b = Q*Omega*Q\n",
    "val_s, vecs_s = Omega_s.eigenstates()\n",
    "val_b, vecs_b = Omega_b.eigenstates()\n",
    "\n",
    "Pnonzero = np.where(val_s > 1.e-9)[0]\n",
    "Qnonzero = np.where(val_b > 1.e-9)[0]\n",
    "\n",
    "# collecting nonzero-eigenvalues^0.5 of omega_s and omega_b\n",
    "omega_s = np.real(np.sqrt(val_s[Pnonzero]))\n",
    "omega_b = np.real(np.sqrt(val_b[Qnonzero]))\n",
    "Ks = vecs_s[Pnonzero]\n",
    "Kb = vecs_b[Qnonzero]\n",
    "\n",
    "ns = len(Pnonzero)\n",
    "nb = len(Qnonzero)\n",
    "print('\\n number of sys  phonon mode =', len(Pnonzero))\n",
    "print('\\n number of bath phonon mode =', len(Qnonzero))\n",
    "print('With SVD mode projection, system modes cm-1 = ', omega_s/cm2mev)\n",
    "print('With SVD mode projection, system modes meV = ', omega_s)\n",
    "#print('system modes**2 cm-1 = ', omega_s**2/cm2mev)\n",
    "#print('system modes**2 meV = ', omega_s**2)"
   ]
  },
  {
   "cell_type": "code",
   "execution_count": 18,
   "id": "1a59ddc6-5911-444d-a77e-838b0fbf323d",
   "metadata": {},
   "outputs": [
    {
     "name": "stdout",
     "output_type": "stream",
     "text": [
      "1.963627584655974 3.224787498040542 3.42358694061124\n"
     ]
    }
   ],
   "source": [
    "# Entropy of the projected system modes.import numpy as np\n",
    "from scipy.stats import entropy\n",
    "\n",
    "pk0 = np.squeeze(Ks[0].full().real)**2\n",
    "pk1 = np.squeeze(Ks[1].full().real)**2\n",
    "pk2 = np.squeeze(Ks[2].full().real)**2\n",
    "\n",
    "print(entropy(pk0, base=np.e), entropy(pk1, base=np.e), entropy(pk2, base=np.e))"
   ]
  },
  {
   "cell_type": "code",
   "execution_count": 19,
   "id": "9f2d6861-7953-4a76-9af6-80e74465ee78",
   "metadata": {},
   "outputs": [
    {
     "name": "stdout",
     "output_type": "stream",
     "text": [
      "[ 0.01764258  0.03213509 -0.01637719] [ 0.00649644 -0.01869142  0.00790964] [0.01223577 0.01651691 0.0319639 ]\n"
     ]
    }
   ],
   "source": [
    "veclist = np.hstack((Ks,Kb))\n",
    "gnewX = np.real(np.squeeze( (Qobj(gcoupS[:,0]).transform(veclist)).full()[:ns] ))\n",
    "gnewY = np.real(np.squeeze( (Qobj(gcoupS[:,1]).transform(veclist)).full()[:ns] ))\n",
    "gnewZ = np.real(np.squeeze( (Qobj(gcoupS[:,2]).transform(veclist)).full()[:ns] ))\n",
    "# note: I have taken real parts only after inspecting that the imaginary parts are zeros.\n",
    "print(gnewX, gnewY, gnewZ)"
   ]
  },
  {
   "cell_type": "code",
   "execution_count": 20,
   "id": "e6cec398-de6e-4e20-af45-b415354624d4",
   "metadata": {},
   "outputs": [
    {
     "data": {
      "text/latex": [
       "Quantum object: dims = [[190], [190]], shape = (190, 190), type = oper, isherm = True $ \\\\ \\left(\\begin{matrix}0.0 & 0.0 & 0.0 & 1.252 & 0.202 & \\cdots & 3.467\\times10^{+03} & -548.962 & 549.885 & -2.035\\times10^{+03} & 1.523\\times10^{+03}\\\\0.0 & 0.0 & 0.0 & 9.985 & 1.530 & \\cdots & -2.033\\times10^{+03} & -171.980 & 1.490\\times10^{+03} & -2.239\\times10^{+03} & 2.709\\times10^{+03}\\\\0.0 & 0.0 & 0.0 & 7.729 & -0.027 & \\cdots & -119.231 & 131.444 & -2.237\\times10^{+03} & -622.167 & -311.753\\\\1.252 & 9.985 & 7.729 & 0.0 & 0.0 & \\cdots & 0.0 & 0.0 & 0.0 & 0.0 & 0.0\\\\0.202 & 1.530 & -0.027 & 0.0 & 0.0 & \\cdots & 0.0 & 0.0 & 0.0 & 0.0 & 0.0\\\\\\vdots & \\vdots & \\vdots & \\vdots & \\vdots & \\ddots & \\vdots & \\vdots & \\vdots & \\vdots & \\vdots\\\\3.467\\times10^{+03} & -2.033\\times10^{+03} & -119.231 & 0.0 & 0.0 & \\cdots & 0.0 & 0.0 & 0.0 & 0.0 & 0.0\\\\-548.962 & -171.980 & 131.444 & 0.0 & 0.0 & \\cdots & 0.0 & 0.0 & 0.0 & 0.0 & 0.0\\\\549.885 & 1.490\\times10^{+03} & -2.237\\times10^{+03} & 0.0 & 0.0 & \\cdots & 0.0 & 0.0 & 0.0 & 0.0 & 0.0\\\\-2.035\\times10^{+03} & -2.239\\times10^{+03} & -622.167 & 0.0 & 0.0 & \\cdots & 0.0 & 0.0 & 0.0 & 0.0 & 0.0\\\\1.523\\times10^{+03} & 2.709\\times10^{+03} & -311.753 & 0.0 & 0.0 & \\cdots & 0.0 & 0.0 & 0.0 & 0.0 & 0.0\\\\\\end{matrix}\\right)$"
      ],
      "text/plain": [
       "Quantum object: dims = [[190], [190]], shape = (190, 190), type = oper, isherm = True\n",
       "Qobj data =\n",
       "[[    0.             0.             0.         ...   549.88490675\n",
       "  -2034.69847177  1522.66222051]\n",
       " [    0.             0.             0.         ...  1490.49011054\n",
       "  -2239.24944268  2708.59015384]\n",
       " [    0.             0.             0.         ... -2236.99445614\n",
       "   -622.16677135  -311.7531786 ]\n",
       " ...\n",
       " [  549.88490675  1490.49011054 -2236.99445614 ...     0.\n",
       "      0.             0.        ]\n",
       " [-2034.69847177 -2239.24944268  -622.16677135 ...     0.\n",
       "      0.             0.        ]\n",
       " [ 1522.66222051  2708.59015384  -311.7531786  ...     0.\n",
       "      0.             0.        ]]"
      ]
     },
     "execution_count": 20,
     "metadata": {},
     "output_type": "execute_result"
    }
   ],
   "source": [
    "L = P*Omega*Q + Q*Omega*P\n",
    "newL = L.transform(veclist).tidyup(atol=1e-6)\n",
    "newL"
   ]
  },
  {
   "cell_type": "code",
   "execution_count": 21,
   "id": "e6914bbd-c0cc-4ed5-ac6c-443ab67de502",
   "metadata": {},
   "outputs": [
    {
     "data": {
      "text/latex": [
       "Quantum object: dims = [[3], [187]], shape = (3, 187), type = oper, isherm = False $ \\\\ \\left(\\begin{matrix}1.252 & 0.202 & -7.557 & 12.640 & 10.664 & \\cdots & 3.467\\times10^{+03} & -548.962 & 549.885 & -2.035\\times10^{+03} & 1.523\\times10^{+03}\\\\9.985 & 1.530 & 40.009 & 4.862 & 14.006 & \\cdots & -2.033\\times10^{+03} & -171.980 & 1.490\\times10^{+03} & -2.239\\times10^{+03} & 2.709\\times10^{+03}\\\\7.729 & -0.027 & 10.362 & 15.547 & -29.855 & \\cdots & -119.231 & 131.444 & -2.237\\times10^{+03} & -622.167 & -311.753\\\\\\end{matrix}\\right)$"
      ],
      "text/plain": [
       "Quantum object: dims = [[3], [187]], shape = (3, 187), type = oper, isherm = False\n",
       "Qobj data =\n",
       "[[ 1.25245512e+00  2.01676996e-01 -7.55676323e+00  1.26396849e+01\n",
       "   1.06638983e+01 -4.07620893e+00 -5.30714920e-01 -2.28432553e+00\n",
       "  -1.54530484e+01 -1.41383183e+01 -5.28414760e+01 -5.81306147e+00\n",
       "  -6.43523092e+00  3.43067280e+00 -2.90683993e+00 -2.68904638e+01\n",
       "   1.03843422e+01  4.22661752e+01 -2.57163980e+01 -6.45645892e+00\n",
       "   6.89781642e+01 -1.81670128e+01  4.72324934e+01 -7.67600442e+01\n",
       "   8.76288022e+00  1.98548325e+01 -9.37287173e+01 -1.17242136e+02\n",
       "  -2.06376037e+00  5.46760703e+01 -3.91504433e+01 -1.47972821e+01\n",
       "   1.17556153e+02 -4.49086182e+01  2.02239802e+02  8.90743468e+01\n",
       "  -1.33032512e+02 -1.93765289e+01 -2.74575291e+00 -8.22198882e+01\n",
       "   6.06604327e+01 -2.07704634e+01 -1.23854026e+02 -3.72611166e+00\n",
       "   4.28600784e+01 -2.94093707e+01 -6.34802073e+01  2.04166519e+02\n",
       "   3.03149955e+01 -3.76336942e+01 -1.44705364e+02  5.01948130e+01\n",
       "  -2.33943854e+02  6.91401598e+00  1.62251591e+01  4.62443467e+01\n",
       "  -1.38119583e+02  1.47243300e+02 -6.92757650e+01  5.90848695e+01\n",
       "   1.20430635e+02  1.02425724e+02  1.50697488e+02  1.06863078e+02\n",
       "  -6.55068055e+01 -1.17763149e+01  8.92073512e+01 -9.35130904e+01\n",
       "   2.83516349e+01 -1.44775151e+01 -1.09330428e+02  5.70762136e+01\n",
       "   2.04588090e+02 -6.90041389e+01 -3.51872294e+00 -3.16051404e+01\n",
       "  -4.70773403e+01  1.20134604e+02  3.18903547e+01  1.48260970e+02\n",
       "  -3.72744198e+01 -1.44461048e+01  3.22521734e+01 -4.81573339e+00\n",
       "   1.44627783e+00 -3.87658088e+01  4.27214268e+01 -5.30533404e+01\n",
       "  -1.59470751e+01  1.38180867e+02 -1.87863407e+01 -1.06457110e+02\n",
       "   1.59560397e+02 -6.04144497e+01 -5.58787588e+01 -4.32013683e+01\n",
       "  -2.29385385e+02  1.62213328e+02  1.52320072e+02 -8.08582944e+01\n",
       "   9.05281712e-02  1.52607151e+02  3.53313436e+02  5.60457678e+01\n",
       "  -2.38602771e+01  4.42941543e+01  3.39831984e+02  2.10014427e+02\n",
       "   2.02681137e+02 -3.81447325e+01 -3.32658462e+01 -7.47024322e+01\n",
       "  -6.34679156e+01 -7.02185428e+01  1.21962381e+02  2.65856694e+02\n",
       "  -2.24971362e+01  8.68086052e+01  3.52409593e+02  5.04341084e+01\n",
       "   3.23292687e+02 -1.39042958e+02 -7.52040865e+00 -3.48159196e+01\n",
       "   1.78357219e+02  1.29763501e+02  5.98054318e+01  9.85346132e+01\n",
       "   1.03894780e+02 -8.09976974e+01  2.83180380e+02 -5.94895696e+01\n",
       "   9.41147960e+00  1.14576688e+02  3.97059200e+01  1.47101456e+02\n",
       "  -1.96078535e+02  7.98970952e+01 -1.08728753e+02  2.74407326e+01\n",
       "  -1.56421659e+02 -3.59022527e+02 -1.33332554e+02  3.40423293e+02\n",
       "   2.12937903e+02  1.33731717e+02  7.18164378e+00  3.71241065e+02\n",
       "   7.75826486e+01 -4.53140826e+01 -1.94279552e+02  1.35860023e+02\n",
       "   2.38489569e+02 -6.84849006e+01  8.67562028e+00 -6.81013386e+01\n",
       "   6.33822992e+01 -1.08328805e+00 -3.44414939e+01 -1.52999361e+01\n",
       "   5.86196988e+01  2.03997142e+02 -7.68316539e+01 -7.38614592e+01\n",
       "   1.53412134e+02 -3.80341983e+01  2.68920986e+02  5.30577525e+02\n",
       "   3.03490935e+02 -6.12018061e+01 -4.18022970e+02  5.19763149e+02\n",
       "  -1.99691300e+01 -7.06854918e+02  2.20255121e+02  4.23378446e+01\n",
       "   2.10007705e+02 -1.31987223e+03  5.55865723e+02  8.74770895e+02\n",
       "  -9.85513437e+01 -3.14286223e+01  3.46703489e+03 -5.48962172e+02\n",
       "   5.49884907e+02 -2.03469847e+03  1.52266222e+03]\n",
       " [ 9.98458916e+00  1.53045671e+00  4.00085029e+01  4.86247642e+00\n",
       "   1.40062693e+01  4.12603319e-01  1.35672367e+01  2.30558631e+00\n",
       "  -4.10345224e+00 -4.76367037e+01 -3.58185696e+01  3.16601906e+01\n",
       "   5.50310852e-01 -2.14929691e+01 -1.75231078e+01 -3.26313542e+01\n",
       "  -6.33324458e+00 -4.65027221e+00  4.70114187e+01  2.16883858e+02\n",
       "   2.05621929e+02  5.59148144e+00 -2.44278861e+01 -3.10780574e+01\n",
       "  -1.72833222e+01 -1.06867504e+01  7.31719857e+00 -5.84423466e+01\n",
       "  -2.36829863e+01 -4.70928359e+01  5.48296125e+01 -5.65176912e+01\n",
       "  -4.29764882e+01 -1.62697481e+02  6.00824198e+01 -6.76353731e+01\n",
       "  -1.08585364e+02 -5.34285803e+01  1.75457790e+02  3.15616080e+01\n",
       "   2.38173290e+02  2.08967655e+02  2.86345096e+02 -3.46172567e+02\n",
       "  -9.56593505e+01 -4.62982822e+01  2.14117436e+02  4.14090674e+02\n",
       "  -1.63546299e+01  2.52353867e+01  4.03365220e+01 -2.24863685e+02\n",
       "  -4.11693334e+02 -3.31594624e+01  5.04903322e+01 -1.17196532e+02\n",
       "   8.30904799e+02  8.79468246e+01  8.55539909e+01 -1.46380653e+02\n",
       "   7.62956948e+01  5.10457364e+01  1.46572501e+02  3.47708825e+01\n",
       "   3.70964687e+01 -7.10174586e+01 -8.17889610e+01  8.30616994e+01\n",
       "  -4.23402294e+01  8.78575226e+01  1.27929602e+02 -2.25399500e+02\n",
       "   1.08491819e+02  4.15767435e+01 -3.34503007e+02  6.71582932e+01\n",
       "  -2.18275895e+02  2.37172206e+02 -1.86206682e+02 -2.06371830e+02\n",
       "  -8.10974507e+01 -9.17802967e+01 -2.02950412e+02 -2.05193416e+02\n",
       "  -2.08334413e+02  8.70177228e+01 -2.15029447e+02  7.51844506e+01\n",
       "  -9.61208796e+01  1.44578229e+02 -2.57054007e+02  3.78287852e+02\n",
       "   1.52744018e+02  6.18481090e+02  8.49684138e+00  2.74386921e+02\n",
       "  -1.75623308e+01  1.06881153e+02  3.45399519e+02  8.27713392e+01\n",
       "   1.66516683e+02 -1.41291826e+02 -6.35643481e+01 -1.69961560e+02\n",
       "   1.36431610e+02  3.26897811e+02 -2.04367330e+02 -1.10266156e+03\n",
       "  -4.19755723e+02  9.86725222e+01  4.63005638e+02 -6.35093712e+02\n",
       "  -4.08819739e+02  7.46132224e+02 -6.43716797e+02  2.57952581e+02\n",
       "  -5.24645352e+01  8.95410927e+02 -2.20375084e+02  1.69263925e+03\n",
       "  -1.87616652e+02 -8.65187074e+01 -3.04107565e+02 -4.92848364e+02\n",
       "   1.13725744e+02  7.06371608e+02 -1.65583261e+02 -3.27279391e+02\n",
       "   1.20270756e+02 -8.75534080e+01  6.51312370e+01 -1.06004711e+03\n",
       "  -1.90637159e+02 -1.32137615e+02  8.27438136e+01 -4.34998189e+02\n",
       "  -4.43450493e+01  8.04141340e+01 -2.61151480e+02  1.86720854e+02\n",
       "  -1.95971576e+02 -1.78120146e+02  1.50089077e+02 -6.66474431e+01\n",
       "   5.73530306e+00 -2.17616146e+02  1.23952586e+02 -4.05440962e+02\n",
       "  -7.10898082e+01  1.14615797e+02  1.30943286e+02 -5.98672658e+02\n",
       "  -3.41613089e+01 -1.59272769e+02  2.53014388e+02  8.32677620e+01\n",
       "   2.08091806e+02 -2.15026785e+02  1.30276943e+02 -5.10288719e+02\n",
       "  -8.77428640e+01 -6.42897877e+02  2.17955491e+01 -1.51137434e+03\n",
       "   9.19772974e+01 -8.06166081e+02 -1.67594715e+03  1.71147383e+02\n",
       "  -1.08915918e+03 -9.04561092e+02 -4.28597019e+01  2.44962298e+02\n",
       "   1.23017521e+03 -1.61476387e+02 -8.83204449e+02 -3.25387112e+02\n",
       "   2.39107182e+02  3.25645953e+02 -7.66735291e+02  5.62489389e+02\n",
       "   5.23698729e+03 -1.84894182e+03 -2.03342514e+03 -1.71980002e+02\n",
       "   1.49049011e+03 -2.23924944e+03  2.70859015e+03]\n",
       " [ 7.72937761e+00 -2.66996585e-02  1.03623307e+01  1.55471717e+01\n",
       "  -2.98553508e+01  1.01623036e+00  9.32239367e-01 -5.01663153e+00\n",
       "   4.26635000e+00  5.27256584e+01  7.66325423e+01  3.78022180e-01\n",
       "  -1.62949078e+01 -6.05311580e-01 -1.33886965e+01  5.31019766e+01\n",
       "  -1.60947810e+01  7.60961555e+00 -1.53188715e+02 -7.92462530e+01\n",
       "  -7.62041182e+01  2.37929207e+01  3.89673609e+01 -2.71182507e+01\n",
       "  -2.28633490e+01  7.59211013e+01 -6.12917799e+01  8.08055506e+01\n",
       "   7.91918224e+00  4.33282013e+01  1.29814318e+02  5.12150945e+01\n",
       "  -1.96449370e+02  5.54932958e+01 -1.58656416e+02  1.05238548e+02\n",
       "  -2.12845609e+02 -1.26692728e+01 -1.54470918e+02  1.90938788e+02\n",
       "   7.39303461e+00 -7.04603762e+01 -3.05884500e+02 -7.87846806e+01\n",
       "  -2.69791985e+02 -2.73197623e+01  2.57482772e+02 -3.80784373e+02\n",
       "   4.79720358e+01 -3.09487389e+01 -1.30157426e+02 -1.12756289e+00\n",
       "  -7.63269468e+01  2.13314096e+02  3.30718191e+01  1.95246015e+02\n",
       "  -4.17231403e+02  2.97510183e+02 -3.25160848e+01  2.19061797e+02\n",
       "   2.31951611e+02  2.12120160e+02  7.66153645e+01 -1.46006393e+02\n",
       "   1.48123928e+02 -7.39280415e+01 -7.29249973e+01  1.22396517e+00\n",
       "  -8.49411343e+01  8.03364016e+01  5.91674025e+01 -3.87387581e+02\n",
       "   2.99470136e+02  1.60135653e+02 -4.57618338e+02 -2.36645156e+02\n",
       "  -9.63661819e+02 -1.08301390e+02 -5.02269534e+02  7.09648937e+02\n",
       "   2.06049975e+02 -4.12739384e+02  3.15368032e+02 -1.84769643e+01\n",
       "  -3.30246332e+02  1.10121850e+01 -6.17852090e+02  5.95326463e+02\n",
       "  -6.23775154e+02  3.97456208e+02  2.84344379e+02  1.11280874e+03\n",
       "   6.25878704e+02  1.00388410e+03  2.02075443e+02  1.29837265e+03\n",
       "   3.77565575e+02  7.75057937e+01  4.99392202e+02 -8.66197448e+02\n",
       "  -5.46013729e+01  3.40824931e+02  7.55797101e+01  1.63401489e+02\n",
       "  -1.18258777e+01  2.59197889e+02  6.06532836e+02 -1.15664885e+03\n",
       "   2.18257338e+02  3.56165534e+02  1.65370464e+03 -1.41136789e+03\n",
       "   4.79769129e+01  1.10815515e+03 -7.40229422e+02  2.10670947e+02\n",
       "  -8.28776990e+02  9.24643579e+02  1.22548614e+02  1.02702947e+03\n",
       "  -6.38997160e+01  2.71230273e+02  8.78160476e+02 -1.12310470e+03\n",
       "   3.11404226e+02  4.29543103e+02 -3.79890606e+02 -2.96027376e+01\n",
       "   7.09946140e+02 -7.00593292e+02  8.59552499e+02 -1.18578748e+03\n",
       "   1.03175951e+02 -4.63735072e+02  3.51872363e+02 -3.74107849e+02\n",
       "  -5.36139292e+01 -3.23927727e+02  7.00611455e+02 -1.71709702e+02\n",
       "   3.45299513e+02  3.39621054e+02 -3.07596102e+02 -1.30192540e+02\n",
       "   2.51772794e+02  2.23510543e+02 -1.59000180e+02  1.63945156e+02\n",
       "   4.47042541e+01 -1.27279391e+02 -2.00925626e+02  4.10713468e+02\n",
       "   4.15546482e+01  2.74045899e+02 -8.61707056e+02  4.02227002e+02\n",
       "  -2.78722855e+02  1.20232317e+02 -5.43825809e+02  5.68551480e+02\n",
       "  -3.33017659e+02  4.91259650e+02 -8.05480787e+01  3.11873228e+03\n",
       "  -5.03501337e+02  1.67106741e+03  1.70154208e+03  4.15332592e+02\n",
       "   9.38242266e+02 -5.23138468e+01 -2.08237313e+02  3.54432735e+02\n",
       "  -3.60026304e+02  6.29520771e+02  7.12374483e+03  2.10496968e+02\n",
       "  -1.71748301e+03  4.20612032e+01 -1.29378531e+03 -1.33431956e+04\n",
       "  -3.57285395e+03  1.37120889e+02 -1.19230804e+02  1.31443501e+02\n",
       "  -2.23699446e+03 -6.22166771e+02 -3.11753179e+02]]"
      ]
     },
     "execution_count": 21,
     "metadata": {},
     "output_type": "execute_result"
    }
   ],
   "source": [
    "gamma_prime = np.real(newL.full()[:ns,ns:]) # the first index for gamma prime is for system phonon and second for bath phonon\n",
    "Qobj(gamma_prime)"
   ]
  },
  {
   "cell_type": "code",
   "execution_count": 22,
   "id": "cea157ae-1760-40d4-bd4d-3ff315bee284",
   "metadata": {},
   "outputs": [
    {
     "data": {
      "text/plain": [
       "array([170.05228774, 352.20783648, 533.98046135])"
      ]
     },
     "execution_count": 22,
     "metadata": {},
     "output_type": "execute_result"
    }
   ],
   "source": [
    "omega_s/cm2mev"
   ]
  },
  {
   "cell_type": "markdown",
   "id": "7a6966b9-16b6-473e-8f39-67703683e908",
   "metadata": {},
   "source": [
    "## Using Redfield dyanmics to extract t1 and t2 of the projected modes then putting them with spin in lindblad formulism\n"
   ]
  },
  {
   "cell_type": "code",
   "execution_count": 23,
   "id": "0141aef7-c12b-4336-904f-3796149118b5",
   "metadata": {},
   "outputs": [
    {
     "data": {
      "text/plain": [
       "array([21.08379664, 43.6682064 , 66.20513965])"
      ]
     },
     "execution_count": 23,
     "metadata": {},
     "output_type": "execute_result"
    }
   ],
   "source": [
    "omega_s"
   ]
  },
  {
   "cell_type": "code",
   "execution_count": 24,
   "id": "c03fb2be-5fd4-46ba-8000-d0d96f852649",
   "metadata": {},
   "outputs": [],
   "source": [
    "#mode1_t1 = []\n",
    "mode2_t1 = []\n",
    "#mode3_t1 = []"
   ]
  },
  {
   "cell_type": "code",
   "execution_count": 33,
   "id": "df2f3031-7bae-4485-bc06-ab58107e28ba",
   "metadata": {},
   "outputs": [
    {
     "name": "stdout",
     "output_type": "stream",
     "text": [
      "10.0%. Run time:   0.06s. Est. time left: 00:00:00:00\n",
      "20.0%. Run time:   0.12s. Est. time left: 00:00:00:00\n",
      "30.0%. Run time:   0.18s. Est. time left: 00:00:00:00\n",
      "40.0%. Run time:   0.24s. Est. time left: 00:00:00:00\n",
      "50.0%. Run time:   0.30s. Est. time left: 00:00:00:00\n",
      "60.0%. Run time:   0.36s. Est. time left: 00:00:00:00\n",
      "70.0%. Run time:   0.42s. Est. time left: 00:00:00:00\n",
      "80.0%. Run time:   0.48s. Est. time left: 00:00:00:00\n",
      "90.0%. Run time:   0.55s. Est. time left: 00:00:00:00\n",
      "Total run time:   0.61s\n"
     ]
    },
    {
     "data": {
      "image/png": "[encoded data removed]",
      "text/plain": [
       "<Figure size 640x480 with 1 Axes>"
      ]
     },
     "metadata": {},
     "output_type": "display_data"
    }
   ],
   "source": [
    "mode = 0\n",
    "factor = 100\n",
    "Temp = 100\n",
    "Hp =(1/factor)*omega_s[mode]*destroy(2).dag()*destroy(2)\n",
    "x = np.sqrt(hbar/(2*omega_s[mode]))*(destroy(2)+destroy(2).dag()) # displacement operator for the mode0\n",
    "\n",
    "# Single Run\n",
    "\n",
    "\n",
    "tlist = np.linspace(0, 1e4, 1000) # in ps\n",
    "\n",
    "specDensityBathModes = lambda w : spectral_density_quantum(w, freqs=omega_b, coup=gamma_prime[mode,:], T=Temp, sigma=2, shape='G')/hbar**2\n",
    "\n",
    "e_ops = []\n",
    "\n",
    "aops = [[x,specDensityBathModes]]\n",
    "\n",
    "\n",
    "rho0 = basis(2,0)*basis(2,0).dag()\n",
    "results1 = brmesolve(Hp/(hbar), rho0, tlist, a_ops=aops, e_ops=e_ops, progress_bar=True)\n",
    "\n",
    "rho00_vals = np.array([results1.states[k].full()[0,0] for k in range(len(tlist))])\n",
    "rho11_vals = np.array([results1.states[k].full()[1,1] for k in range(len(tlist))])\n",
    "rho01_vals = np.array([results1.states[k].full()[0,1] for k in range(len(tlist))])\n",
    "\n",
    "plt.figure()\n",
    "plt.plot(tlist, np.abs(rho00_vals))\n",
    "plt.plot(tlist, np.abs(rho11_vals))\n",
    "##plt.yscale('log')\n",
    "plt.xlabel(r\"Time ($ps$)\")\n",
    "plt.ylabel(r\"$\\rho$\")\n",
    "plt.title(\"Evolution of density matrix elements at \"+str(Temp)+\"K\")\n",
    "#plt.legend([r\"$\\rho_{11}$\", r\"$\\rho_{22}$\"])\n",
    "#plt.legend([r\"$\\rho_{12}$\"])\n",
    "\n",
    "\n",
    "plt.show()\n"
   ]
  },
  {
   "cell_type": "code",
   "execution_count": 34,
   "id": "bad252ba-fdc3-4183-ae94-108d7d5a3992",
   "metadata": {},
   "outputs": [
    {
     "name": "stdout",
     "output_type": "stream",
     "text": [
      "the T1 time in ps 132116.55867308337\n",
      "the T1 time in ps 1321.1655867308339\n"
     ]
    },
    {
     "data": {
      "image/png": "[encoded data removed]",
      "text/plain": [
       "<Figure size 640x480 with 1 Axes>"
      ]
     },
     "metadata": {},
     "output_type": "display_data"
    }
   ],
   "source": [
    "f, df = curve_fit(t1_func, tlist, np.abs(rho00_vals))\n",
    "fthermal, df = curve_fit(t1_func_thermal, tlist, np.abs(rho00_vals))\n",
    "fit_f = np.array([t1_func(k, f[0],f[1])  for k in tlist])\n",
    "plt.figure()\n",
    "plt.plot(tlist, np.abs(rho00_vals))\n",
    "plt.plot(tlist, fit_f, '-.')\n",
    "plt.xlabel(r\"Time ($ps$)\")\n",
    "plt.ylabel(r\"$\\rho$\")\n",
    "plt.legend([r\"$\\rho_{11}$\", r\"fit $T_1 = $\"+str(1000*np.round(f,5)[0])+r\"$\\ fs$\", r\"fit_thermal $T_1 = $\"+str(np.round(1000*fthermal,5)[0])+r\"$\\ fs$\"])\n",
    "print('the T1 time in ps', f[0]*factor)\n",
    "print('the T1 time in ps', f[0])"
   ]
  },
  {
   "cell_type": "code",
   "execution_count": 35,
   "id": "b30361bf-5102-42e9-a2ec-4bdfb7fa2904",
   "metadata": {},
   "outputs": [],
   "source": [
    "mode2_t1.append(f[0]/factor)"
   ]
  },
  {
   "cell_type": "code",
   "execution_count": 36,
   "id": "0108a09b-22d1-4ef4-ae54-781baceac3e3",
   "metadata": {},
   "outputs": [
    {
     "data": {
      "text/plain": [
       "[13.21165586730834, 13.21165586730834]"
      ]
     },
     "execution_count": 36,
     "metadata": {},
     "output_type": "execute_result"
    }
   ],
   "source": [
    "mode2_t1"
   ]
  },
  {
   "cell_type": "code",
   "execution_count": 37,
   "id": "3f2f7989-4f85-49ad-8e22-942c4aa3665c",
   "metadata": {},
   "outputs": [],
   "source": [
    "temp_list = [5, 50, 100, 200, 300]"
   ]
  },
  {
   "cell_type": "code",
   "execution_count": 38,
   "id": "81a2aa7e-5cd5-48f5-bfa5-87e34473d70a",
   "metadata": {},
   "outputs": [
    {
     "ename": "NameError",
     "evalue": "name 'mode1_t1' is not defined",
     "output_type": "error",
     "traceback": [
      "\u001b[0;31m---------------------------------------------------------------------------\u001b[0m",
      "\u001b[0;31mNameError\u001b[0m                                 Traceback (most recent call last)",
      "Cell \u001b[0;32mIn[38], line 4\u001b[0m\n\u001b[1;32m      2\u001b[0m plt\u001b[38;5;241m.\u001b[39mrcParams\u001b[38;5;241m.\u001b[39mupdate({\u001b[38;5;124m'\u001b[39m\u001b[38;5;124mfont.size\u001b[39m\u001b[38;5;124m'\u001b[39m: \u001b[38;5;241m20\u001b[39m})\n\u001b[1;32m      3\u001b[0m plt\u001b[38;5;241m.\u001b[39mfigure()\n\u001b[0;32m----> 4\u001b[0m plt\u001b[38;5;241m.\u001b[39mplot(temp_list, mode1_t1)\n\u001b[1;32m      5\u001b[0m plt\u001b[38;5;241m.\u001b[39mplot(temp_list, mode2_t1)\n\u001b[1;32m      6\u001b[0m plt\u001b[38;5;241m.\u001b[39mplot(temp_list, mode3_t1)\n",
      "\u001b[0;31mNameError\u001b[0m: name 'mode1_t1' is not defined"
     ]
    },
    {
     "data": {
      "text/plain": [
       "<Figure size 640x480 with 0 Axes>"
      ]
     },
     "metadata": {},
     "output_type": "display_data"
    }
   ],
   "source": [
    "plt.rcParams['text.usetex'] = True \n",
    "plt.rcParams.update({'font.size': 20})\n",
    "plt.figure()\n",
    "plt.plot(temp_list, mode1_t1)\n",
    "plt.plot(temp_list, mode2_t1)\n",
    "plt.plot(temp_list, mode3_t1)\n",
    "plt.ylabel(r\"$T_1(ps)$\")\n",
    "plt.xlabel(r\"Temp.(K)\")\n",
    "#plt.yscale('log')\n",
    "#plt.xscale('log')\n",
    "plt.show()"
   ]
  },
  {
   "cell_type": "code",
   "execution_count": 39,
   "id": "fe9d4bd4-27f1-4f4a-b0fe-364cc2dd8a93",
   "metadata": {},
   "outputs": [],
   "source": [
    "# t1 times for the phonons at 300 from previous method.\n",
    "t1p = [0.012837945681530277, 0.0005711617135254505, 0.00019536814504390486]"
   ]
  },
  {
   "cell_type": "markdown",
   "id": "0832b505-c89a-41b5-8b4c-3a647cd8591f",
   "metadata": {},
   "source": [
    "### Computing T2 time"
   ]
  },
  {
   "cell_type": "code",
   "execution_count": 40,
   "id": "ab377830-18db-46df-89b1-a7bb86603030",
   "metadata": {},
   "outputs": [
    {
     "name": "stdout",
     "output_type": "stream",
     "text": [
      "10.0%. Run time:   0.06s. Est. time left: 00:00:00:00\n",
      "20.0%. Run time:   0.12s. Est. time left: 00:00:00:00\n",
      "30.0%. Run time:   0.19s. Est. time left: 00:00:00:00\n",
      "40.0%. Run time:   0.25s. Est. time left: 00:00:00:00\n",
      "50.0%. Run time:   0.31s. Est. time left: 00:00:00:00\n",
      "60.0%. Run time:   0.37s. Est. time left: 00:00:00:00\n",
      "70.0%. Run time:   0.43s. Est. time left: 00:00:00:00\n",
      "80.0%. Run time:   0.50s. Est. time left: 00:00:00:00\n",
      "90.0%. Run time:   0.56s. Est. time left: 00:00:00:00\n",
      "Total run time:   0.62s\n"
     ]
    },
    {
     "data": {
      "image/png": "[encoded data removed]",
      "text/plain": [
       "<Figure size 640x480 with 1 Axes>"
      ]
     },
     "metadata": {},
     "output_type": "display_data"
    }
   ],
   "source": [
    "mode = 0\n",
    "factor = 100\n",
    "# Temp = 300\n",
    "Hp = (1/factor)*omega_s[mode]*destroy(2).dag()*destroy(2)\n",
    "x = np.sqrt(hbar/(2*omega_s[mode]))*(destroy(2)+destroy(2).dag()) # displacement operator for the mode0\n",
    "\n",
    "# Single Run\n",
    "\n",
    "\n",
    "tlist = np.linspace(0, 1e3, 1000) # in ps\n",
    "\n",
    "specDensityBathModes = lambda w : spectral_density_quantum(w, freqs=omega_b, coup=gamma_prime[mode,:], T=Temp, sigma=2, shape='G')/hbar**2\n",
    "\n",
    "e_ops = []\n",
    "\n",
    "aops = [[x,specDensityBathModes]]\n",
    "\n",
    "\n",
    "rho0 = ket2dm((basis(2,0)+basis(2,1)).unit())\n",
    "results1 = brmesolve(Hp/(hbar), rho0, tlist, a_ops=aops, e_ops=e_ops, progress_bar=True)\n",
    "\n",
    "rho00_vals = np.array([results1.states[k].full()[0,0] for k in range(len(tlist))])\n",
    "rho11_vals = np.array([results1.states[k].full()[1,1] for k in range(len(tlist))])\n",
    "rho01_vals = np.array([results1.states[k].full()[0,1] for k in range(len(tlist))])\n",
    "\n",
    "plt.figure()\n",
    "#plt.plot(tlist, np.abs(rho00_vals))\n",
    "#plt.plot(tlist, np.abs(rho11_vals))\n",
    "plt.plot(tlist, np.real(rho01_vals))\n",
    "##plt.yscale('log')\n",
    "plt.xlabel(r\"Time ($ps$)\")\n",
    "plt.ylabel(r\"$\\rho$\")\n",
    "#plt.title(\"Evolution of density matrix elements at \"+str(Temp)+\"K\")\n",
    "#plt.legend([r\"$\\rho_{11}$\", r\"$\\rho_{22}$\"])\n",
    "plt.legend([r\"$\\rho_{12}$\"])\n",
    "#plt.legend([r\"$\\rho_{11}$\", r\"fit $T_1 = $\"+str(1000*np.round(f,5)[0])+r\"$\\ fs$\", r\"fit_thermal $T_1 = $\"+str(np.round(fthermal,5)[0])+r\"$\\ p s$\"])\n",
    "\n",
    "plt.show()\n"
   ]
  },
  {
   "cell_type": "code",
   "execution_count": 41,
   "id": "ca9f5e15-4215-4626-9ead-41b444754b1f",
   "metadata": {},
   "outputs": [
    {
     "data": {
      "text/plain": [
       "100"
      ]
     },
     "execution_count": 41,
     "metadata": {},
     "output_type": "execute_result"
    }
   ],
   "source": [
    "factor"
   ]
  },
  {
   "cell_type": "code",
   "execution_count": 42,
   "id": "dc7de536-ea4c-4445-9505-17476d777404",
   "metadata": {},
   "outputs": [
    {
     "data": {
      "text/latex": [
       "Quantum object: dims = [[2], [2]], shape = (2, 2), type = oper, isherm = True $ \\\\ \\left(\\begin{matrix}0.0 & 0.0\\\\0.0 & 0.211\\\\\\end{matrix}\\right)$"
      ],
      "text/plain": [
       "Quantum object: dims = [[2], [2]], shape = (2, 2), type = oper, isherm = True\n",
       "Qobj data =\n",
       "[[0.         0.        ]\n",
       " [0.         0.21083797]]"
      ]
     },
     "execution_count": 42,
     "metadata": {},
     "output_type": "execute_result"
    }
   ],
   "source": [
    "Hp"
   ]
  },
  {
   "cell_type": "markdown",
   "id": "7ee17399-deba-4c62-ab10-2bc18ec1e104",
   "metadata": {},
   "source": [
    "# Temp"
   ]
  },
  {
   "cell_type": "code",
   "execution_count": 43,
   "id": "e9129eaf-6ecb-48ef-bc7b-bf2024a1d91b",
   "metadata": {},
   "outputs": [
    {
     "name": "stdout",
     "output_type": "stream",
     "text": [
      "10.0%. Run time:   0.00s. Est. time left: 00:00:00:00\n",
      "20.0%. Run time:   0.01s. Est. time left: 00:00:00:00\n",
      "30.0%. Run time:   0.01s. Est. time left: 00:00:00:00\n",
      "40.0%. Run time:   0.02s. Est. time left: 00:00:00:00\n",
      "50.0%. Run time:   0.02s. Est. time left: 00:00:00:00\n",
      "60.0%. Run time:   0.02s. Est. time left: 00:00:00:00\n",
      "70.0%. Run time:   0.03s. Est. time left: 00:00:00:00\n",
      "80.0%. Run time:   0.03s. Est. time left: 00:00:00:00\n",
      "90.0%. Run time:   0.03s. Est. time left: 00:00:00:00\n",
      "Total run time:   0.03s\n"
     ]
    },
    {
     "data": {
      "image/png": "[encoded data removed]",
      "text/plain": [
       "<Figure size 640x480 with 1 Axes>"
      ]
     },
     "metadata": {},
     "output_type": "display_data"
    }
   ],
   "source": [
    "mode=0\n",
    "#temp_i = 2\n",
    "#Temp=temp_list[temp_i]\n",
    "#Temp=300\n",
    "\n",
    "e_ops = []\n",
    "#cops = [c0*x]\n",
    "n_th = n_thermal(omega_s[mode]*1e-2, kB*Temp)\n",
    "#cops = [np.sqrt((1/(1000*mode1_t1[temp_i])) * (1+n_th)) * destroy(2), np.sqrt((1/(1000*mode1_t1[temp_i])) * (n_th)) * destroy(2).dag()]\n",
    "#t1 = 132116.55867308337\n",
    "t1 = 1321.1655867308339\n",
    "cops = [np.sqrt((1/(t1)) * (1+n_th)) * destroy(2), np.sqrt((1/(t1)) * (n_th)) * destroy(2).dag()]\n",
    "rho0 = basis(2,0)*basis(2,0).dag()\n",
    "results2 = mesolve(factor*Hp/(hbar), rho0, tlist, c_ops=cops, e_ops=e_ops, progress_bar=True)\n",
    "\n",
    "rho00_vals_L = np.array([results2.states[k].full()[0,0] for k in range(len(tlist))])\n",
    "rho11_vals_L = np.array([results2.states[k].full()[1,1] for k in range(len(tlist))])\n",
    "\n",
    "plt.figure()\n",
    "plt.plot(tlist, np.abs(rho00_vals_L))\n",
    "plt.plot(tlist, np.abs(rho11_vals_L))\n",
    "plt.plot(tlist, np.abs(rho00_vals))\n",
    "plt.plot(tlist, np.abs(rho11_vals))\n",
    "plt.xlabel(r\"Time ($ps$)\")\n",
    "plt.ylabel(r\"$\\rho$\")\n",
    "plt.title(\"Evolution of density matrix elements at \"+str(Temp)+\"K\")\n",
    "plt.legend([r\"$\\rho_{00}L$\", r\"$\\rho_{11}L$\", r\"$\\rho_{00}$\", r\"$\\rho_{11}$\"])\n",
    "plt.show()"
   ]
  },
  {
   "cell_type": "code",
   "execution_count": 46,
   "id": "7b9a897a-7c09-42df-a056-5a611da49f2a",
   "metadata": {},
   "outputs": [
    {
     "data": {
      "text/plain": [
       "0.0"
      ]
     },
     "execution_count": 46,
     "metadata": {},
     "output_type": "execute_result"
    }
   ],
   "source": [
    "expect(thermal_dm(3, 2, method='analytic'),destroy(3)+destroy(3).dag())"
   ]
  },
  {
   "cell_type": "code",
   "execution_count": null,
   "id": "5345ddd1-5bac-4378-a947-4073a7e5db86",
   "metadata": {},
   "outputs": [],
   "source": []
  },
  {
   "cell_type": "code",
   "execution_count": null,
   "id": "60ef2697-ac4b-46d1-8672-02cfd24950b3",
   "metadata": {},
   "outputs": [],
   "source": []
  },
  {
   "cell_type": "markdown",
   "id": "581ad76c-3bb7-4882-8a7d-290ea777943b",
   "metadata": {
    "jp-MarkdownHeadingCollapsed": true
   },
   "source": [
    "### Lindblad operators"
   ]
  },
  {
   "cell_type": "code",
   "execution_count": 196,
   "id": "9fbe81fe-8b2a-49c4-8201-18bcd2ed3aee",
   "metadata": {},
   "outputs": [],
   "source": [
    "x0 = np.sqrt(hbar/(2*omega_s[0]))*(destroy(2)+destroy(2).dag()) # displacement operator for the mode0\n",
    "x1 = np.sqrt(hbar/(2*omega_s[1]))*(destroy(2)+destroy(2).dag())\n",
    "x2 = np.sqrt(hbar/(2*omega_s[2]))*(destroy(2)+destroy(2).dag())\n",
    "X0 = tensor(x0, qeye(2), qeye(2), qeye(2))\n",
    "X1 = tensor(qeye(2), x1, qeye(2), qeye(2))\n",
    "X2 = tensor(qeye(2), qeye(2), x2, qeye(2))\n",
    "A0 = tensor(destroy(2), qeye(2), qeye(2), qeye(2))\n",
    "A1 = tensor(qeye(2), destroy(2), qeye(2), qeye(2))\n",
    "A2 = tensor(qeye(2), qeye(2), destroy(2), qeye(2))"
   ]
  },
  {
   "cell_type": "code",
   "execution_count": 197,
   "id": "8769b929-751a-4f88-a3bd-5d6a1ccf1b8d",
   "metadata": {},
   "outputs": [],
   "source": [
    "Hp = omega_s[0]*A0.dag()*A0 + omega_s[1]*A1.dag()*A1 + omega_s[2]*A2.dag()*A2\n",
    "#Hp"
   ]
  },
  {
   "cell_type": "code",
   "execution_count": 198,
   "id": "f3c4b756-45c3-440e-8857-aaba5aa26d02",
   "metadata": {},
   "outputs": [],
   "source": [
    "#omega_s[0]*A0"
   ]
  },
  {
   "cell_type": "code",
   "execution_count": 199,
   "id": "ae2c14b9-45a2-4162-96c7-2728d9f35fa9",
   "metadata": {},
   "outputs": [
    {
     "data": {
      "text/plain": [
       "True"
      ]
     },
     "execution_count": 199,
     "metadata": {},
     "output_type": "execute_result"
    }
   ],
   "source": [
    "isequal(tensor(omega_s[0]*destroy(2), qeye(2), qeye(2), qeye(2)), omega_s[0]*A0)"
   ]
  },
  {
   "cell_type": "code",
   "execution_count": 200,
   "id": "d650ed42-1e76-48ea-b682-5f7b4519daac",
   "metadata": {},
   "outputs": [],
   "source": [
    "Hint = (gnewX[0]*X0 + gnewX[1]*X1 + gnewX[2]*X2)*tensor(qeye(2), qeye(2), qeye(2),sigma_vec[0])\n",
    "Hint += (gnewY[0]*X0 + gnewY[1]*X1 + gnewY[2]*X2)*tensor(qeye(2), qeye(2), qeye(2),sigma_vec[1])\n",
    "Hint += (gnewZ[0]*X0 + gnewZ[1]*X1 + gnewZ[2]*X2)*tensor(qeye(2), qeye(2), qeye(2),sigma_vec[2])\n",
    "#Hint"
   ]
  },
  {
   "cell_type": "code",
   "execution_count": 201,
   "id": "8713a017-a87d-465c-8b6d-a850fe52e289",
   "metadata": {},
   "outputs": [],
   "source": [
    "Hspin = tensor(qeye(2), qeye(2), qeye(2), H)\n",
    "Htotal = Hp#+Hint+Hspin\n",
    "#Htotal"
   ]
  },
  {
   "cell_type": "code",
   "execution_count": 202,
   "id": "1552064f-9ebb-4a85-bfcc-a171222ceb97",
   "metadata": {},
   "outputs": [],
   "source": [
    "p0 = basis(2,1)*basis(2,1).dag()\n",
    "p1 = basis(2,0)*basis(2,0).dag()\n",
    "p2 = basis(2,0)*basis(2,0).dag()\n",
    "s = basis(2, 1)*basis(2,1).dag()\n",
    "########### defining the tensorproduct states ###################\n",
    "P0 = tensor(p0, qeye(2), qeye(2), qeye(2))\n",
    "P1 = tensor(qeye(2), p1, qeye(2), qeye(2))\n",
    "P2 = tensor(qeye(2), qeye(2), p2, qeye(2))\n",
    "S = tensor(qeye(2), qeye(2), qeye(2), s)\n",
    "#################################################################\n",
    "rho = tensor(p0, p1, p2, s)\n",
    "#rho"
   ]
  },
  {
   "cell_type": "code",
   "execution_count": 203,
   "id": "d3c3361c-e6ab-4155-adb9-5e1cf1c1365d",
   "metadata": {},
   "outputs": [],
   "source": [
    "# performing the lindblad time evolution \n",
    "proj0 = tensor(qeye(2), qeye(2), qeye(2), basis(2,0)*basis(2,0).dag())\n",
    "proj1 = tensor(qeye(2), qeye(2), qeye(2), basis(2,1)*basis(2,1).dag())\n",
    "\n",
    "p0_00 = tensor(basis(2,0)*basis(2,0).dag(), qeye(2), qeye(2), qeye(2))\n",
    "p0_11 = tensor(basis(2,1)*basis(2,1).dag(), qeye(2), qeye(2), qeye(2))\n",
    "\n",
    "p1_00 = tensor(qeye(2), basis(2,0)*basis(2,0).dag(), qeye(2), qeye(2))\n",
    "p1_11 = tensor(qeye(2), basis(2,1)*basis(2,1).dag(), qeye(2), qeye(2))\n",
    "\n",
    "p2_00 = tensor(qeye(2), qeye(2), basis(2,0)*basis(2,0).dag(), qeye(2))\n",
    "p2_11 = tensor(qeye(2), qeye(2), basis(2,1)*basis(2,1).dag(), qeye(2))\n",
    "\n",
    "#cops = [c0*X0, c1*X1, c2*X2]\n",
    "\n",
    "n_th = n_thermal(omega_s[0], kB*Temp)\n",
    "cops = [np.sqrt((1/t1p[0]) * (0 + n_th)) * A0, np.sqrt((1/t1p[0]) * (1 + n_th)) * A0.dag()]\n",
    "n_th = n_thermal(omega_s[1], kB*Temp)\n",
    "cops += [np.sqrt((1/t1p[1]) * (1 + n_th)) * A1, np.sqrt((1/t1p[1]) * n_th) * A1.dag()]\n",
    "n_th = n_thermal(omega_s[2], kB*Temp)\n",
    "cops += [np.sqrt((1/t1p[2]) * (1 + n_th)) * A2, np.sqrt((1/t1p[2]) * n_th) * A2.dag()]\n",
    "\n",
    "eops = [p0_11, p0_00, A0.dag()*A0, proj0, proj1]"
   ]
  },
  {
   "cell_type": "code",
   "execution_count": 204,
   "id": "74903a2e-1187-44bc-83d7-a91280ea72d1",
   "metadata": {},
   "outputs": [
    {
     "name": "stdout",
     "output_type": "stream",
     "text": [
      "10.0%. Run time:   0.02s. Est. time left: 00:00:00:00\n",
      "20.0%. Run time:   0.04s. Est. time left: 00:00:00:00\n",
      "30.0%. Run time:   0.06s. Est. time left: 00:00:00:00\n",
      "40.0%. Run time:   0.07s. Est. time left: 00:00:00:00\n",
      "50.0%. Run time:   0.09s. Est. time left: 00:00:00:00\n",
      "60.0%. Run time:   0.11s. Est. time left: 00:00:00:00\n",
      "70.0%. Run time:   0.13s. Est. time left: 00:00:00:00\n",
      "80.0%. Run time:   0.15s. Est. time left: 00:00:00:00\n",
      "90.0%. Run time:   0.17s. Est. time left: 00:00:00:00\n",
      "Total run time:   0.19s\n"
     ]
    }
   ],
   "source": [
    "#tlistp = np.linspace(0, 1e5, int(6e4)) # time in ps\n",
    "tlistp = np.linspace(0, 1, int(1e3)) # time in ps\n",
    "results = mesolve(Htotal/hbar, rho, tlistp, c_ops=cops, e_ops=eops, progress_bar=True)"
   ]
  },
  {
   "cell_type": "code",
   "execution_count": 207,
   "id": "a70a4526-a120-4a9a-8168-4554c0a865da",
   "metadata": {},
   "outputs": [
    {
     "data": {
      "text/plain": [
       "Text(0, 0.5, 'expectation value')"
      ]
     },
     "execution_count": 207,
     "metadata": {},
     "output_type": "execute_result"
    },
    {
     "data": {
      "image/png": "[encoded data removed]",
      "text/plain": [
       "<Figure size 1000x600 with 1 Axes>"
      ]
     },
     "metadata": {},
     "output_type": "display_data"
    }
   ],
   "source": [
    "labels = [\"p0_11\", \"p0_00\", \"n0\", r\"$\\rho_{00}$\", r\"$\\rho_{11}$\"]\n",
    "plt.figure(figsize=(10,6))\n",
    "for i in range(5):\n",
    "    plt.plot(tlistp, results.expect[i].real)\n",
    "plt.legend(labels, loc = 'upper right')\n",
    "plt.xlabel('time (ps)')\n",
    "plt.ylabel('expectation value')\n",
    "    "
   ]
  },
  {
   "cell_type": "code",
   "execution_count": 121,
   "id": "647cbea7-a694-4272-aa89-a700fbba688e",
   "metadata": {},
   "outputs": [
    {
     "data": {
      "text/plain": [
       "array([21.08, 43.67, 66.21])"
      ]
     },
     "execution_count": 121,
     "metadata": {},
     "output_type": "execute_result"
    }
   ],
   "source": [
    "np.round(omega_s, 2)"
   ]
  },
  {
   "cell_type": "code",
   "execution_count": null,
   "id": "7ac95521-bdd1-474b-a1e2-927b2d93713f",
   "metadata": {},
   "outputs": [],
   "source": []
  }
 ],
 "metadata": {
  "kernelspec": {
   "display_name": "Python 3 (ipykernel)",
   "language": "python",
   "name": "python3"
  },
  "language_info": {
   "codemirror_mode": {
    "name": "ipython",
    "version": 3
   },
   "file_extension": ".py",
   "mimetype": "text/x-python",
   "name": "python",
   "nbconvert_exporter": "python",
   "pygments_lexer": "ipython3",
   "version": "3.11.5"
  }
 },
 "nbformat": 4,
 "nbformat_minor": 5
}
